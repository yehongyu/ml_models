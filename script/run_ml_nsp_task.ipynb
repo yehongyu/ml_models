{
 "cells": [
  {
   "cell_type": "code",
   "execution_count": null,
   "metadata": {},
   "outputs": [],
   "source": [
    "import os\n",
    "import sys\n",
    "import time\n",
    "import logging\n",
    "import numpy as np\n",
    "\n",
    "import tensorflow as tf\n",
    "print(\"tf version:\", tf.__version__)\n",
    "\n",
    "cur_ts = int(time.time())\n",
    "tf.app.flags.DEFINE_string(\"text_paths\", None, \"HDFS paths to input files.\")\n",
    "tf.app.flags.DEFINE_string(\"ml_paths\", \"/Users/aodandan/data/tfrecord/eval/part-*\", \"eval data path\")\n",
    "tf.app.flags.DEFINE_integer(\"train_epochs\", 1, \"train epochs\")\n",
    "tf.app.flags.DEFINE_integer(\"batch_size\", 512, \"batch size\")\n",
    "tf.app.flags.DEFINE_float(\"learning_rate\", 1e-4, \"train learning rate\")\n",
    "tf.app.flags.DEFINE_float(\"dropout\", 0.5, \"dropout\")\n",
    "tf.app.flags.DEFINE_float(\"clip_norm\", 10.0, \"clip norm\")\n",
    "tf.app.flags.DEFINE_integer(\"num_cols\", 242, \"num cols\")\n",
    "tf.app.flags.DEFINE_string('f', '', 'kernel')\n",
    "\n",
    "\n",
    "FLAGS = tf.app.flags.FLAGS\n",
    "##print(FLAGS.train_paths)\n",
    "print(FLAGS.model_path)\n",
    "print(FLAGS.train_paths)\n"
   ]
  }
 ],
 "metadata": {
  "kernelspec": {
   "display_name": "Python 3",
   "language": "python",
   "name": "python3"
  },
  "language_info": {
   "codemirror_mode": {
    "name": "ipython",
    "version": 3
   },
   "file_extension": ".py",
   "mimetype": "text/x-python",
   "name": "python",
   "nbconvert_exporter": "python",
   "pygments_lexer": "ipython3",
   "version": "3.7.4"
  }
 },
 "nbformat": 4,
 "nbformat_minor": 2
}
