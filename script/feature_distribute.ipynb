{
 "cells": [
  {
   "cell_type": "code",
   "execution_count": 1,
   "metadata": {
    "scrolled": true
   },
   "outputs": [
    {
     "name": "stdout",
     "output_type": "stream",
     "text": [
      "dict_keys(['f_porn_score-0', 'f_rudely_score-1', 'f_dup_count_-2', 'f_self_dup_count-3', 'f_length-4', 'f_informative-5', 'f_follower_count-6', 'f_match_word_cnt-7', 'f_non_verb_cnt-8', 'f_avg_segment_len-9', 'f_profile_len-10', 'f_match_word_tfidf-11', 'f_hot_rate-12', 'f_complexity-13', 'f_dnn_title-14', 'f_dnn_keyword-15', 'f_w2v_title-16', 'f_w2v_keyword-17', 'f_cat_mi-18', 'f_ad_score-19', 'f_sentiment-20', 'f_political_score-21', 'f_cheat_report_score-22', 'f_praise_score-23', 'f_title_spam_score-24', 'f_advertorial_score-25', 'f_like_media-26', 'f_porn_group_score_-27', 'f_rudely2_score-28', 'f_uname_ad_score-29', 'f_roi_review_score_-30', 'f_report_count-31', 'f_porn_report_count-32', 'f_ad_report_count-33', 'f_rudely_report_count-34', 'f_strategy_type-35', 'f_negative_score-36', 'f_positive_score-37', 'f_strict_porn_score-38', 'f_strict_manma_score-39', 'f_politics_score-40', 'f_video_strict_porn_score-41', 'f_video_porn_score-42', 'f_contextual_politics_score-43', 'f_unique_text_length-44', 'f_quality_score_xg-45', 'f_match_score-46', 'f_is_fan-47', 'f_is_repost-48', 'f_group_source-49', 'f_group_type-50', 'f_symbol_1_count-51', 'f_symbol_2_count-52', 'f_emoji_count-53', 'f_prefer_category-54', 'f_prefer_topic-55', 'f_group_category-56', 'f_content_length-57', 'f_xinren_score-58', 'f_qidai_score-59', 'f_jingya_score-60', 'f_xiai_score-61', 'f_yanwu_score-62', 'f_fennu_score-63', 'f_beishang_score-64', 'f_kongju_score-65', 'f_is_review_comment-66', 'f_user_self_age-67', 'f_user_gender-68', 'f_cut_anti_overlap-69', 'f_is_political_article-70', 'f_antidirt_table_7-71', 'f_antidirt_table_21-72', 'f_antidirt_table_49-73', 'f_antidirt_table_88-74', 'f_antidirt_table_89-75', 'f_antidirt_table_90-76', 'f_antidirt_table_101-77', 'f_antidirt_table_496-78', 'f_antidirt_table_497-79', 'f_antidirt_table_498-80', 'f_antidirt_table_499-81', 'f_antidirt_table_500-82', 'f_antidirt_table_501-83', 'f_antidirt_table_502-84', 'f_antidirt_table_503-85', 'f_antidirt_table_506-86', 'f_antidirt_table_cnt-87', 'f_antidirt_word_cnt-88', 'f_antidirt_table_7_cat-89', 'f_antidirt_table_21_cat-90', 'f_antidirt_table_49_cat-91', 'f_antidirt_table_88_cat-92', 'f_antidirt_table_89_cat-93', 'f_antidirt_table_90_cat-94', 'f_antidirt_table_101_cat-95', 'f_antidirt_table_496_cat-96', 'f_antidirt_table_497_cat-97', 'f_antidirt_table_498_cat-98', 'f_antidirt_table_499_cat-99', 'f_antidirt_table_500_cat-100', 'f_antidirt_table_501_cat-101', 'f_antidirt_table_502_cat-102', 'f_antidirt_table_503_cat-103', 'f_antidirt_table_506_cat-104', 'f_antidirt_table_7_cat_r-105', 'f_antidirt_table_21_cat_r-106', 'f_antidirt_table_49_cat_r-107', 'f_antidirt_table_88_cat_r-108', 'f_antidirt_table_89_cat_r-109', 'f_antidirt_table_90_cat_r-110', 'f_antidirt_table_101_cat_r-111', 'f_antidirt_table_496_cat_r-112', 'f_antidirt_table_497_cat_r-113', 'f_antidirt_table_498_cat_r-114', 'f_antidirt_table_499_cat_r-115', 'f_antidirt_table_500_cat_r-116', 'f_antidirt_table_501_cat_r-117', 'f_antidirt_table_502_cat_r-118', 'f_antidirt_table_503_cat_r-119', 'f_antidirt_table_506_cat_r-120', 'f_antidirt_table_7_topic-121', 'f_antidirt_table_21_topic-122', 'f_antidirt_table_49_topic-123', 'f_antidirt_table_88_topic-124', 'f_antidirt_table_89_topic-125', 'f_antidirt_table_90_topic-126', 'f_antidirt_table_101_topic-127', 'f_antidirt_table_496_topic-128', 'f_antidirt_table_497_topic-129', 'f_antidirt_table_498_topic-130', 'f_antidirt_table_499_topic-131', 'f_antidirt_table_500_topic-132', 'f_antidirt_table_501_topic-133', 'f_antidirt_table_502_topic-134', 'f_antidirt_table_503_topic-135', 'f_antidirt_table_506_topic-136', 'f_antidirt_table_7_topic_r-137', 'f_antidirt_table_21_topic_r-138', 'f_antidirt_table_49_topic_r-139', 'f_antidirt_table_88_topic_r-140', 'f_antidirt_table_89_topic_r-141', 'f_antidirt_table_90_topic_r-142', 'f_antidirt_table_101_topic_r-143', 'f_antidirt_table_496_topic_r-144', 'f_antidirt_table_497_topic_r-145', 'f_antidirt_table_498_topic_r-146', 'f_antidirt_table_499_topic_r-147', 'f_antidirt_table_500_topic_r-148', 'f_antidirt_table_501_topic_r-149', 'f_antidirt_table_502_topic_r-150', 'f_antidirt_table_503_topic_r-151', 'f_antidirt_table_506_topic_r-152', 'f_antidirt_table_7_word-153', 'f_antidirt_table_21_word-154', 'f_antidirt_table_49_word-155', 'f_antidirt_table_88_word-156', 'f_antidirt_table_89_word-157', 'f_antidirt_table_90_word-158', 'f_antidirt_table_101_word-159', 'f_antidirt_table_496_word-160', 'f_antidirt_table_497_word-161', 'f_antidirt_table_498_word-162', 'f_antidirt_table_499_word-163', 'f_antidirt_table_500_word-164', 'f_antidirt_table_501_word-165', 'f_antidirt_table_502_word-166', 'f_antidirt_table_503_word-167', 'f_antidirt_table_506_word-168', 'f_antidirt_table_7_word_r-169', 'f_antidirt_table_21_word_r-170', 'f_antidirt_table_49_word_r-171', 'f_antidirt_table_88_word_r-172', 'f_antidirt_table_89_word_r-173', 'f_antidirt_table_90_word_r-174', 'f_antidirt_table_101_word_r-175', 'f_antidirt_table_496_word_r-176', 'f_antidirt_table_497_word_r-177', 'f_antidirt_table_498_word_r-178', 'f_antidirt_table_499_word_r-179', 'f_antidirt_table_500_word_r-180', 'f_antidirt_table_501_word_r-181', 'f_antidirt_table_502_word_r-182', 'f_antidirt_table_503_word_r-183', 'f_antidirt_table_506_word_r-184', 'f_hit_d180_count-185', 'f_hit_d180_hit-186', 'f_hit_d180_rate-187', 'f_hit_d30_count-188', 'f_hit_d30_hit-189', 'f_hit_d30_rate-190', 'f_all_post_cnt-191', 'f_all_liked_cnt-192', 'f_all_replied_cnt-193', 'f_all_porn_cnt-194', 'f_all_rude_cnt-195', 'f_all_politics_cnt-196', 'f_all_negative_cnt-197', 'f_all_liked_rate-198', 'f_all_replied_rate-199', 'f_all_porn_rate-200', 'f_all_rude_rate-201', 'f_all_politics_rate-202', 'f_all_negative_rate-203', 'f_all_digg_cnt-204', 'f_d30_post_cnt-205', 'f_d30_liked_cnt-206', 'f_d30_replied_cnt-207', 'f_d30_porn_cnt-208', 'f_d30_rude_cnt-209', 'f_d30_politics_cnt-210', 'f_d30_negative_cnt-211', 'f_d30_liked_rate-212', 'f_d30_replied_rate-213', 'f_d30_porn_rate-214', 'f_d30_rude_rate-215', 'f_d30_politics_rate-216', 'f_d30_negative_rate-217', 'f_d30_digg_cnt-218', 'f_avg_del_count-219', 'f_avg_self_count-220', 'f_avg_del_rate-221', 'f_avg_self_rate-222', 'f_d30_del_count-223', 'f_d30_self_count-224', 'f_d30_del_rate-225', 'f_d30_self_rate-226', 'f_douyin_comment_under_ad_score-227', 'f_douyin_comment_under_ad_positive_score-228', 'f_daoliu_detect_score-229', 'f_antidirt_table_85-230', 'f_antidirt_table_85_cat-231', 'f_antidirt_table_85_cat_r-232', 'f_antidirt_table_85_topic-233', 'f_antidirt_table_85_topic_r-234', 'f_antidirt_table_85_word-235', 'f_antidirt_table_85_word_r-236', 'f_verify_relevance_score-237', 'f_digg_rate-238', 'f_reply_rate-239', 'f_verify_bert_score-240', 'f_atmosphere_sent_score-241', 'f_client_impr_count-242', 'f_digg_count-243', 'f_reply_count-244', 'f_crh-245', 'f_is_douyin-246', 'f_level-247', 'f_is_gov-248', 'f_parent_high_risk_score-249', 'f_author_comment2_manma_wilson-250', 'f_author_comment2_political_wilson-251', 'f_author_comment2_rudely_wilson-252', 'f_author_comment2_negative_wilson-253', 'f_author_comment2_positive_wilson-254', 'f_author_comment2_porn_wilson-255', 'f_author_video_strict_porn_wilson-256', 'f_comment_reply_porn_wilson-257', 'f_comment_reply_politics_wilson-258', 'f_comment_reply_negative_wilson-259', 'f_comment_reply_positive_wilson-260', 'f_comment_reply_direction_porn_wilson-261', 'f_review_comment_mode-262', 'f_key_group_score-263'])\n"
     ]
    }
   ],
   "source": [
    "import numpy as np\n",
    "import json\n",
    "data_path = \"/Users/aodandan/data/tfrecord/feature/first_0506.gandalf\"\n",
    "\n",
    "def parse_feature(f, data):\n",
    "    for key, val in f.items():\n",
    "        slot = val[\"slot\"]\n",
    "        f_val = val[\"data\"]\n",
    "        feature_name = val[\"feature_name\"]\n",
    "        key = feature_name + \"-\" + str(slot)\n",
    "        #print(key, f_val, type(f_val))\n",
    "        if key not in data: data[key] = []\n",
    "        data[key].append(np.float(f_val))\n",
    "        \n",
    "    \n",
    "def load_data(infile, limit_line=None):\n",
    "    data = {}\n",
    "    count = 0\n",
    "    with open(infile, 'r') as fin:\n",
    "        for line in fin:\n",
    "            count += 1\n",
    "            if limit_line != None and count > limit_line: break\n",
    "            values = line.strip('\\r\\n').split('\\t')\n",
    "            if len(values) < 6:\n",
    "                print(line)\n",
    "                continue\n",
    "            label = values[1]\n",
    "            parse_feature(json.loads(values[5]), data)\n",
    "    return data\n",
    "       \n",
    "limit_line = 10000\n",
    "data = load_data(data_path)\n",
    "print(data.keys())\n"
   ]
  },
  {
   "cell_type": "code",
   "execution_count": 2,
   "metadata": {
    "scrolled": true
   },
   "outputs": [
    {
     "name": "stdout",
     "output_type": "stream",
     "text": [
      "f_porn_score-0 total: 14636 non nan len: 14636 non nan ratio: 0.0\n",
      "f_porn_score-0 fvals: 14636 [0.125  0.0036 0.0045 0.0246 0.045 ]\n",
      "f_porn_score-0 fvals norm: 14636 [2.49688020e-03 7.19974069e-05 8.99959464e-05 4.91878991e-04\n",
      " 8.99595279e-04]\n",
      "f_porn_score-0:min=0.0005000000237487257, max=49.890201568603516, mean=0.25903112842893244, median=0.009700000286102295\n",
      "f_porn_score-0:min=9.999950475347503e-06, max=0.6920485930196077, mean=0.004473740310531695, median=0.0001939811901544477\n"
     ]
    },
    {
     "data": {
      "text/plain": [
       "Text(0.0, 1.0, 'Distribution Function of feature')"
      ]
     },
     "execution_count": 2,
     "metadata": {},
     "output_type": "execute_result"
    },
    {
     "data": {
      "image/png": "[encoded data removed]",
      "text/plain": [
       "<Figure size 432x288 with 1 Axes>"
      ]
     },
     "metadata": {
      "needs_background": "light"
     },
     "output_type": "display_data"
    }
   ],
   "source": [
    "import math\n",
    "import pandas as pd\n",
    "from scipy import stats\n",
    "import matplotlib.pyplot as plt\n",
    "\n",
    "\n",
    "\n",
    "fname = \"f_porn_score-0\"\n",
    "raw_fvals = np.asarray(data[fname]) # list\n",
    "numbins = 1000\n",
    "\n",
    "# 1.ratio of nan, use non nan val\n",
    "fvals = np.asarray([value for value in raw_fvals if not math.isnan(value)])\n",
    "print(fname, \"total:\", len(raw_fvals), \"non nan len:\", len(fvals), \"non nan ratio:\", 1.0-(len(fvals)/len(raw_fvals)))\n",
    "\n",
    "def cal_mean(fname, fvals):\n",
    "    mean = np.mean(fvals)\n",
    "    median = np.median(fvals)\n",
    "    min_val = np.min(fvals)\n",
    "    max_val = np.max(fvals)\n",
    "    print(f\"{fname}:min={min_val}, max={max_val}, mean={mean}, median={median}\")\n",
    "\n",
    "# 3.use ln(e, val-mean)\n",
    "divisor = 50.0\n",
    "norm_fvals = np.log(fvals/divisor + 1.0)\n",
    "print(fname, \"fvals:\", len(fvals), fvals[0:5])\n",
    "print(fname, \"fvals norm:\", len(norm_fvals), norm_fvals[0:5])\n",
    "cal_mean(fname, fvals)\n",
    "cal_mean(fname, norm_fvals)\n",
    "\n",
    "# 4.draw curve of distribute \n",
    "res = stats.relfreq(norm_fvals, numbins=numbins)\n",
    "x1 = res.lowerlimit + np.linspace(0, res.binsize*res.frequency.size,res.frequency.size)\n",
    "y1 = res.frequency\n",
    "y1_cum = np.cumsum(res.frequency)\n",
    "\n",
    "\n",
    "fig,ax = plt.subplots()\n",
    "plt.rcParams['figure.figsize'] = (50.0, 50.0)\n",
    "plt.rcParams['savefig.dpi'] = 1000\n",
    "plt.rcParams['figure.dpi'] = 1000\n",
    "plt.xlabel('score')\n",
    "plt.ylabel('ratio')\n",
    "\n",
    "\n",
    "plt.plot(x1, y1, \"x-\", label=fname)\n",
    "#plt.plot(x1, y1_cum, \"|-\", label=fname+\":cumulatived\")\n",
    "\n",
    "plt.grid(True)\n",
    "plt.legend(bbox_to_anchor=(1.0, 1), loc=4, borderaxespad=0.)\n",
    "plt.title('Distribution Function of feature',fontsize='large', fontweight='bold', loc='left')\n"
   ]
  }
 ],
 "metadata": {
  "kernelspec": {
   "display_name": "Python 3",
   "language": "python",
   "name": "python3"
  },
  "language_info": {
   "codemirror_mode": {
    "name": "ipython",
    "version": 3
   },
   "file_extension": ".py",
   "mimetype": "text/x-python",
   "name": "python",
   "nbconvert_exporter": "python",
   "pygments_lexer": "ipython3",
   "version": "3.7.4"
  }
 },
 "nbformat": 4,
 "nbformat_minor": 2
}
